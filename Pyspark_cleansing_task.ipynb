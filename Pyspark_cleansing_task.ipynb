{
 "cells": [
  {
   "cell_type": "code",
   "execution_count": 1,
   "metadata": {
    "collapsed": false
   },
   "outputs": [
    {
     "data": {
      "text/plain": [
       "<pyspark.context.SparkContext at 0x7f081d8fee90>"
      ]
     },
     "execution_count": 1,
     "metadata": {},
     "output_type": "execute_result"
    }
   ],
   "source": [
    "# Pyspark context SC is up and running\n",
    "sc = SparkContext.getOrCreate()\n",
    "sc"
   ]
  },
  {
   "cell_type": "code",
   "execution_count": 2,
   "metadata": {
    "collapsed": false
   },
   "outputs": [
    {
     "data": {
      "text/plain": [
       "u'local[*]'"
      ]
     },
     "execution_count": 2,
     "metadata": {},
     "output_type": "execute_result"
    }
   ],
   "source": [
    "# sc master - running locally\n",
    "sc.master"
   ]
  },
  {
   "cell_type": "code",
   "execution_count": 3,
   "metadata": {
    "collapsed": true
   },
   "outputs": [],
   "source": [
    "# Read input file\n",
    "file_in = sc.textFile('/user/spark/project/iowaliqsales.csv')"
   ]
  },
  {
   "cell_type": "code",
   "execution_count": 116,
   "metadata": {
    "collapsed": false
   },
   "outputs": [
    {
     "name": "stdout",
     "output_type": "stream",
     "text": [
      "number of lines in file: 4670911\n"
     ]
    }
   ],
   "source": [
    "# Count lines\n",
    "print('number of lines in file: %s' % file_in.count())"
   ]
  },
  {
   "cell_type": "code",
   "execution_count": 118,
   "metadata": {
    "collapsed": false
   },
   "outputs": [],
   "source": [
    "# Create Spark Dataframe\n",
    "df = sqlContext.read.load('/user/spark/project/iowaliqsales.csv',format='com.databricks.spark.csv',header='true',)\n",
    " #format='com.databricks.spark.csv'\n",
    "#df = spark.createDataFrame(file_in,['Invoice/Item Number', 'Date', 'Store Number', 'Store Name', 'Address', 'City','Zip Code','Store Location','County Number','County','Category','Category Name','Vendor Number','Item Number','Item Description','Pack','Bottle Volume (ml)','State Bottle Cost','State Bottle Retail','Bottles Sold','Sale (Dollars)','Volume Sold (Liters)','Volume Sold (Gallons)'])"
   ]
  },
  {
   "cell_type": "code",
   "execution_count": 120,
   "metadata": {
    "collapsed": false
   },
   "outputs": [
    {
     "name": "stdout",
     "output_type": "stream",
     "text": [
      "+-------------------+-------------+------------+--------------------+-------------------+-------------+--------+-------------------+-------------+--------------------+--------+-------------+-------------+-----------+-----------+----------------+----+------------------+-----------------+-------------------+------------+--------------+--------------------+---------------------+\n",
      "|Invoice/Item Number|         Date|Store Number|          Store Name|            Address|         City|Zip Code|     Store Location|County Number|              County|Category|Category Name|Vendor Number|Vendor Name|Item Number|Item Description|Pack|Bottle Volume (ml)|State Bottle Cost|State Bottle Retail|Bottles Sold|Sale (Dollars)|Volume Sold (Liters)|Volume Sold (Gallons)|\n",
      "+-------------------+-------------+------------+--------------------+-------------------+-------------+--------+-------------------+-------------+--------------------+--------+-------------+-------------+-----------+-----------+----------------+----+------------------+-----------------+-------------------+------------+--------------+--------------------+---------------------+\n",
      "|    INV-08401500039|   11/01/2017|        5172|Uptown Liquor & T...|2000 Willey Blvd SW| Cedar Rapids|   52404|2000 Willey Blvd SW|         null|                null|    null|         null|         null|       null|       null|            null|null|              null|             null|               null|        null|          null|                null|                 null|\n",
      "| Cedar Rapids 52404|         null|        null|                null|               null|         null|    null|               null|         null|                null|    null|         null|         null|       null|       null|            null|null|              null|             null|               null|        null|          null|                null|                 null|\n",
      "|         (41.959585| -91.725778)\"|          57|                LINN|            1022100|Mixto Tequila|     395|            PROXIMO|        89194|Jose Cuervo Espec...|      24|          375|         5.50|       8.25|          5|            8.25|1.87|              0.49|             null|               null|        null|          null|                null|                 null|\n",
      "|    INV-08401500038|   11/01/2017|        5172|Uptown Liquor & T...|2000 Willey Blvd SW| Cedar Rapids|   52404|2000 Willey Blvd SW|         null|                null|    null|         null|         null|       null|       null|            null|null|              null|             null|               null|        null|          null|                null|                 null|\n",
      "| Cedar Rapids 52404|         null|        null|                null|               null|         null|    null|               null|         null|                null|    null|         null|         null|       null|       null|            null|null|              null|             null|               null|        null|          null|                null|                 null|\n",
      "+-------------------+-------------+------------+--------------------+-------------------+-------------+--------+-------------------+-------------+--------------------+--------+-------------+-------------+-----------+-----------+----------------+----+------------------+-----------------+-------------------+------------+--------------+--------------------+---------------------+\n",
      "only showing top 5 rows\n",
      "\n"
     ]
    }
   ],
   "source": [
    "df.show(5)"
   ]
  },
  {
   "cell_type": "code",
   "execution_count": 114,
   "metadata": {
    "collapsed": false
   },
   "outputs": [],
   "source": [
    "# Selecting only re\n",
    "df2=df.select( df['County'],df['City'],df['Category Name'],df['Vendor Name'],df['Pack'],df['Bottle Volume (ml)'],df['State Bottle Cost'],df['State Bottle Retail'],df['Bottles Sold'],df['Sale (Dollars)'],df['Volume Sold (Liters)'])"
   ]
  },
  {
   "cell_type": "code",
   "execution_count": 93,
   "metadata": {
    "collapsed": false
   },
   "outputs": [],
   "source": [
    "from pyspark.sql.functions import isnan\n",
    "df1=df.filter((df[\"County\"] != \"\") | df[\"County\"].isNotNull() |(df[\"Category Name\"] != \"\") | df[\"Category Name\"].isNotNull()|(df[\"City\"] != \"\") | df[\"City\"].isNotNull()|(df[\"Vendor Name\"] != \"\") | df[\"Vendor Name\"].isNotNull()|(df[\"Pack\"] != \"\") | df[\"Pack\"].isNotNull()|(df[\"Bottle Volume (ml)\"] != \"\") | df[\"Bottle Volume (ml)\"].isNotNull()|(df[\"State Bottle Cost\"] != \"\") | df[\"State Bottle Cost\"].isNotNull()|(df[\"State Bottle Retail\"] != \"\") | df[\"State Bottle Retail\"].isNotNull()|(df[\"Bottles Sold\"] != \"\") | df[\"Bottles Sold\"].isNotNull()|(df[\"Sale (Dollars)\"] != \"\") | df[\"Sale (Dollars)\"].isNotNull()|(df[\"Volume Sold (Liters)\"] != \"\") | df[\"Volume Sold (Liters)\"].isNotNull())"
   ]
  },
  {
   "cell_type": "code",
   "execution_count": 113,
   "metadata": {
    "collapsed": false
   },
   "outputs": [
    {
     "name": "stdout",
     "output_type": "stream",
     "text": [
      "+--------------------+-----------------+-------------+\n",
      "|              County|             City|Category Name|\n",
      "+--------------------+-----------------+-------------+\n",
      "|                null|     Cedar Rapids|         null|\n",
      "|                null|             null|         null|\n",
      "|Jose Cuervo Espec...|    Mixto Tequila|          375|\n",
      "|                null|     Cedar Rapids|         null|\n",
      "|                null|             null|         null|\n",
      "| New Amsterdam Vodka|  American Vodkas|          750|\n",
      "|                null|     Cedar Rapids|         null|\n",
      "|                null|             null|         null|\n",
      "|       Hawkeye Vodka|  American Vodkas|         1000|\n",
      "|                null|     Cedar Rapids|         null|\n",
      "|                null|             null|         null|\n",
      "|Jose Cuervo Espec...|    Mixto Tequila|         1000|\n",
      "|                null|     Cedar Rapids|         null|\n",
      "|                null|             null|         null|\n",
      "|Jose Cuervo Espec...|    Mixto Tequila|          375|\n",
      "|                null|     Cedar Rapids|         null|\n",
      "|                null|             null|         null|\n",
      "|         E & J Apple|American Brandies|          750|\n",
      "|                null|     Cedar Rapids|         null|\n",
      "|                null|             null|         null|\n",
      "+--------------------+-----------------+-------------+\n",
      "only showing top 20 rows\n",
      "\n"
     ]
    }
   ],
   "source": [
    "df2.show()"
   ]
  },
  {
   "cell_type": "code",
   "execution_count": 92,
   "metadata": {
    "collapsed": false
   },
   "outputs": [
    {
     "data": {
      "text/plain": [
       "[('City', 'string'),\n",
       " ('County', 'string'),\n",
       " ('Category Name', 'string'),\n",
       " ('Vendor Name', 'string'),\n",
       " ('Pack', 'double'),\n",
       " ('Bottle Volume (ml)', 'double'),\n",
       " ('State Bottle Cost', 'double'),\n",
       " ('State Bottle Retail', 'double'),\n",
       " ('Bottles Sold', 'int'),\n",
       " ('Sale (Dollars)', 'double'),\n",
       " ('Volume Sold (Liters)', 'double')]"
      ]
     },
     "execution_count": 92,
     "metadata": {},
     "output_type": "execute_result"
    }
   ],
   "source": [
    "numeric_filtered_1.where(numeric_filtered_1['NORMAL'] != 'null')numeric_filtered_2.show()"
   ]
  },
  {
   "cell_type": "code",
   "execution_count": 90,
   "metadata": {
    "collapsed": false
   },
   "outputs": [
    {
     "name": "stdout",
     "output_type": "stream",
     "text": [
      "+---------------+--------------------+-------------+-----------+----+------------------+-----------------+-------------------+------------+--------------+--------------------+\n",
      "|           City|              County|Category Name|Vendor Name|Pack|Bottle Volume (ml)|State Bottle Cost|State Bottle Retail|Bottles Sold|Sale (Dollars)|Volume Sold (Liters)|\n",
      "+---------------+--------------------+-------------+-----------+----+------------------+-----------------+-------------------+------------+--------------+--------------------+\n",
      "|   Cedar Rapids|                null|         null|       null|null|              null|             null|               null|        null|          null|                null|\n",
      "|  Mixto Tequila|Jose Cuervo Espec...|          375|       8.25|1.87|              0.49|             null|               null|        null|          null|                null|\n",
      "|   Cedar Rapids|                null|         null|       null|null|              null|             null|               null|        null|          null|                null|\n",
      "|American Vodkas| New Amsterdam Vodka|          750|      11.25|0.75|              0.19|             null|               null|        null|          null|                null|\n",
      "|   Cedar Rapids|                null|         null|       null|null|              null|             null|               null|        null|          null|                null|\n",
      "+---------------+--------------------+-------------+-----------+----+------------------+-----------------+-------------------+------------+--------------+--------------------+\n",
      "only showing top 5 rows\n",
      "\n"
     ]
    }
   ],
   "source": [
    "df2.show(5)"
   ]
  },
  {
   "cell_type": "code",
   "execution_count": 58,
   "metadata": {
    "collapsed": false
   },
   "outputs": [
    {
     "name": "stdout",
     "output_type": "stream",
     "text": [
      "+-------------------+-------------+------------+--------------------+-------------------+---------------+--------+-------------------+-------------+--------------------+--------+-------------+-------------+-----------+-----------+----------------+----+------------------+-----------------+-------------------+------------+--------------+--------------------+---------------------+\n",
      "|Invoice/Item Number|         Date|Store Number|          Store Name|            Address|           City|Zip Code|     Store Location|County Number|              County|Category|Category Name|Vendor Number|Vendor Name|Item Number|Item Description|Pack|Bottle Volume (ml)|State Bottle Cost|State Bottle Retail|Bottles Sold|Sale (Dollars)|Volume Sold (Liters)|Volume Sold (Gallons)|\n",
      "+-------------------+-------------+------------+--------------------+-------------------+---------------+--------+-------------------+-------------+--------------------+--------+-------------+-------------+-----------+-----------+----------------+----+------------------+-----------------+-------------------+------------+--------------+--------------------+---------------------+\n",
      "|    INV-08401500039|   11/01/2017|        5172|Uptown Liquor & T...|2000 Willey Blvd SW|   Cedar Rapids| 52404.0|2000 Willey Blvd SW|         null|                null|    null|         null|         null|       null|       null|            null|null|              null|             null|               null|        null|          null|                null|                 null|\n",
      "|         (41.959585| -91.725778)\"|          57|                LINN|            1022100|  Mixto Tequila|   395.0|            PROXIMO|      89194.0|Jose Cuervo Espec...|    24.0|          375|          5.5|       8.25|          5|            8.25|1.87|              0.49|             null|               null|        null|          null|                null|                 null|\n",
      "|    INV-08401500038|   11/01/2017|        5172|Uptown Liquor & T...|2000 Willey Blvd SW|   Cedar Rapids| 52404.0|2000 Willey Blvd SW|         null|                null|    null|         null|         null|       null|       null|            null|null|              null|             null|               null|        null|          null|                null|                 null|\n",
      "|         (41.959585| -91.725778)\"|          57|                LINN|            1031100|American Vodkas|   205.0| E & J Gallo Winery|      36969.0| New Amsterdam Vodka|    12.0|          750|          7.5|      11.25|          1|          135.00|0.75|              0.19|             null|               null|        null|          null|                null|                 null|\n",
      "|    INV-08401500037|   11/01/2017|        5172|Uptown Liquor & T...|2000 Willey Blvd SW|   Cedar Rapids| 52404.0|2000 Willey Blvd SW|         null|                null|    null|         null|         null|       null|       null|            null|null|              null|             null|               null|        null|          null|                null|                 null|\n",
      "+-------------------+-------------+------------+--------------------+-------------------+---------------+--------+-------------------+-------------+--------------------+--------+-------------+-------------+-----------+-----------+----------------+----+------------------+-----------------+-------------------+------------+--------------+--------------------+---------------------+\n",
      "only showing top 5 rows\n",
      "\n"
     ]
    }
   ],
   "source": [
    "from pyspark.sql.functions import isnan, when, count, col\n",
    "from pyspark.sql.types import *\n",
    "#dropna(df, how = c(\"any\", \"all\"),minNonNulls = NULL, cols = NULL)\n",
    "df.filter(df.Date.isNotNull()).show(5)\n",
    "#df = df.filter(df. isNotNull())"
   ]
  },
  {
   "cell_type": "code",
   "execution_count": null,
   "metadata": {
    "collapsed": true
   },
   "outputs": [],
   "source": []
  },
  {
   "cell_type": "code",
   "execution_count": null,
   "metadata": {
    "collapsed": true
   },
   "outputs": [],
   "source": []
  },
  {
   "cell_type": "code",
   "execution_count": 36,
   "metadata": {
    "collapsed": false
   },
   "outputs": [
    {
     "name": "stdout",
     "output_type": "stream",
     "text": [
      "root\n",
      " |-- Invoice/Item Number: string (nullable = true)\n",
      " |-- Date: string (nullable = true)\n",
      " |-- Store Number: integer (nullable = true)\n",
      " |-- Store Name: string (nullable = true)\n",
      " |-- Address: string (nullable = true)\n",
      " |-- City: string (nullable = true)\n",
      " |-- Zip Code: double (nullable = true)\n",
      " |-- Store Location: string (nullable = true)\n",
      " |-- County Number: double (nullable = true)\n",
      " |-- County: string (nullable = true)\n",
      " |-- Category: double (nullable = true)\n",
      " |-- Category Name: string (nullable = true)\n",
      " |-- Vendor Number: double (nullable = true)\n",
      " |-- Vendor Name: string (nullable = true)\n",
      " |-- Item Number: integer (nullable = true)\n",
      " |-- Item Description: string (nullable = true)\n",
      " |-- Pack: double (nullable = true)\n",
      " |-- Bottle Volume (ml): double (nullable = true)\n",
      " |-- State Bottle Cost: double (nullable = true)\n",
      " |-- State Bottle Retail: double (nullable = true)\n",
      " |-- Bottles Sold: integer (nullable = true)\n",
      " |-- Sale (Dollars): double (nullable = true)\n",
      " |-- Volume Sold (Liters): double (nullable = true)\n",
      " |-- Volume Sold (Gallons): double (nullable = true)\n",
      "\n"
     ]
    }
   ],
   "source": [
    "import pandas as pd\n",
    "import matplotlib.pyplot as plt\n",
    "plt.clf()\n",
    "pdDF = nonNullDF.toPandas()"
   ]
  },
  {
   "cell_type": "code",
   "execution_count": 11,
   "metadata": {
    "collapsed": false
   },
   "outputs": [
    {
     "ename": "AnalysisException",
     "evalue": "u\"cannot resolve '`Invoice/Item Number`' given input columns: [id];;\\n'Project [unresolvedalias(cast('Invoice/Item Number as date), None)]\\n+- Range (1, 4, step=1, splits=Some(4))\\n\"",
     "output_type": "error",
     "traceback": [
      "\u001b[0;31m---------------------------------------------------------------------------\u001b[0m",
      "\u001b[0;31mAnalysisException\u001b[0m                         Traceback (most recent call last)",
      "\u001b[0;32m<ipython-input-11-0d5fc48a79b1>\u001b[0m in \u001b[0;36m<module>\u001b[0;34m()\u001b[0m\n\u001b[1;32m      1\u001b[0m \u001b[0;32mfrom\u001b[0m \u001b[0mpyspark\u001b[0m\u001b[0;34m.\u001b[0m\u001b[0msql\u001b[0m\u001b[0;34m.\u001b[0m\u001b[0mfunctions\u001b[0m \u001b[0;32mimport\u001b[0m \u001b[0mcol\u001b[0m\u001b[0;34m\u001b[0m\u001b[0m\n\u001b[1;32m      2\u001b[0m \u001b[0;34m\u001b[0m\u001b[0m\n\u001b[0;32m----> 3\u001b[0;31m \u001b[0mspark\u001b[0m\u001b[0;34m.\u001b[0m\u001b[0mrange\u001b[0m\u001b[0;34m(\u001b[0m\u001b[0;36m1\u001b[0m\u001b[0;34m,\u001b[0m \u001b[0;36m4\u001b[0m\u001b[0;34m)\u001b[0m\u001b[0;34m.\u001b[0m\u001b[0mselect\u001b[0m\u001b[0;34m(\u001b[0m\u001b[0mcol\u001b[0m\u001b[0;34m(\u001b[0m\u001b[0;34m\"Invoice/Item Number\"\u001b[0m\u001b[0;34m)\u001b[0m\u001b[0;34m.\u001b[0m\u001b[0mcast\u001b[0m\u001b[0;34m(\u001b[0m\u001b[0;34m\"Date\"\u001b[0m\u001b[0;34m)\u001b[0m\u001b[0;34m)\u001b[0m\u001b[0;34m\u001b[0m\u001b[0m\n\u001b[0m\u001b[1;32m      4\u001b[0m \u001b[0;34m\u001b[0m\u001b[0m\n\u001b[1;32m      5\u001b[0m \u001b[0;31m#df.describe().show()\u001b[0m\u001b[0;34m\u001b[0m\u001b[0;34m\u001b[0m\u001b[0m\n",
      "\u001b[0;32m/usr/local/spark/python/pyspark/sql/dataframe.pyc\u001b[0m in \u001b[0;36mselect\u001b[0;34m(self, *cols)\u001b[0m\n\u001b[1;32m    982\u001b[0m         \u001b[0;34m[\u001b[0m\u001b[0mRow\u001b[0m\u001b[0;34m(\u001b[0m\u001b[0mname\u001b[0m\u001b[0;34m=\u001b[0m\u001b[0;34mu'Alice'\u001b[0m\u001b[0;34m,\u001b[0m \u001b[0mage\u001b[0m\u001b[0;34m=\u001b[0m\u001b[0;36m12\u001b[0m\u001b[0;34m)\u001b[0m\u001b[0;34m,\u001b[0m \u001b[0mRow\u001b[0m\u001b[0;34m(\u001b[0m\u001b[0mname\u001b[0m\u001b[0;34m=\u001b[0m\u001b[0;34mu'Bob'\u001b[0m\u001b[0;34m,\u001b[0m \u001b[0mage\u001b[0m\u001b[0;34m=\u001b[0m\u001b[0;36m15\u001b[0m\u001b[0;34m)\u001b[0m\u001b[0;34m]\u001b[0m\u001b[0;34m\u001b[0m\u001b[0m\n\u001b[1;32m    983\u001b[0m         \"\"\"\n\u001b[0;32m--> 984\u001b[0;31m         \u001b[0mjdf\u001b[0m \u001b[0;34m=\u001b[0m \u001b[0mself\u001b[0m\u001b[0;34m.\u001b[0m\u001b[0m_jdf\u001b[0m\u001b[0;34m.\u001b[0m\u001b[0mselect\u001b[0m\u001b[0;34m(\u001b[0m\u001b[0mself\u001b[0m\u001b[0;34m.\u001b[0m\u001b[0m_jcols\u001b[0m\u001b[0;34m(\u001b[0m\u001b[0;34m*\u001b[0m\u001b[0mcols\u001b[0m\u001b[0;34m)\u001b[0m\u001b[0;34m)\u001b[0m\u001b[0;34m\u001b[0m\u001b[0m\n\u001b[0m\u001b[1;32m    985\u001b[0m         \u001b[0;32mreturn\u001b[0m \u001b[0mDataFrame\u001b[0m\u001b[0;34m(\u001b[0m\u001b[0mjdf\u001b[0m\u001b[0;34m,\u001b[0m \u001b[0mself\u001b[0m\u001b[0;34m.\u001b[0m\u001b[0msql_ctx\u001b[0m\u001b[0;34m)\u001b[0m\u001b[0;34m\u001b[0m\u001b[0m\n\u001b[1;32m    986\u001b[0m \u001b[0;34m\u001b[0m\u001b[0m\n",
      "\u001b[0;32m/usr/local/spark/python/lib/py4j-0.10.4-src.zip/py4j/java_gateway.py\u001b[0m in \u001b[0;36m__call__\u001b[0;34m(self, *args)\u001b[0m\n\u001b[1;32m   1131\u001b[0m         \u001b[0manswer\u001b[0m \u001b[0;34m=\u001b[0m \u001b[0mself\u001b[0m\u001b[0;34m.\u001b[0m\u001b[0mgateway_client\u001b[0m\u001b[0;34m.\u001b[0m\u001b[0msend_command\u001b[0m\u001b[0;34m(\u001b[0m\u001b[0mcommand\u001b[0m\u001b[0;34m)\u001b[0m\u001b[0;34m\u001b[0m\u001b[0m\n\u001b[1;32m   1132\u001b[0m         return_value = get_return_value(\n\u001b[0;32m-> 1133\u001b[0;31m             answer, self.gateway_client, self.target_id, self.name)\n\u001b[0m\u001b[1;32m   1134\u001b[0m \u001b[0;34m\u001b[0m\u001b[0m\n\u001b[1;32m   1135\u001b[0m         \u001b[0;32mfor\u001b[0m \u001b[0mtemp_arg\u001b[0m \u001b[0;32min\u001b[0m \u001b[0mtemp_args\u001b[0m\u001b[0;34m:\u001b[0m\u001b[0;34m\u001b[0m\u001b[0m\n",
      "\u001b[0;32m/usr/local/spark/python/pyspark/sql/utils.pyc\u001b[0m in \u001b[0;36mdeco\u001b[0;34m(*a, **kw)\u001b[0m\n\u001b[1;32m     67\u001b[0m                                              e.java_exception.getStackTrace()))\n\u001b[1;32m     68\u001b[0m             \u001b[0;32mif\u001b[0m \u001b[0ms\u001b[0m\u001b[0;34m.\u001b[0m\u001b[0mstartswith\u001b[0m\u001b[0;34m(\u001b[0m\u001b[0;34m'org.apache.spark.sql.AnalysisException: '\u001b[0m\u001b[0;34m)\u001b[0m\u001b[0;34m:\u001b[0m\u001b[0;34m\u001b[0m\u001b[0m\n\u001b[0;32m---> 69\u001b[0;31m                 \u001b[0;32mraise\u001b[0m \u001b[0mAnalysisException\u001b[0m\u001b[0;34m(\u001b[0m\u001b[0ms\u001b[0m\u001b[0;34m.\u001b[0m\u001b[0msplit\u001b[0m\u001b[0;34m(\u001b[0m\u001b[0;34m': '\u001b[0m\u001b[0;34m,\u001b[0m \u001b[0;36m1\u001b[0m\u001b[0;34m)\u001b[0m\u001b[0;34m[\u001b[0m\u001b[0;36m1\u001b[0m\u001b[0;34m]\u001b[0m\u001b[0;34m,\u001b[0m \u001b[0mstackTrace\u001b[0m\u001b[0;34m)\u001b[0m\u001b[0;34m\u001b[0m\u001b[0m\n\u001b[0m\u001b[1;32m     70\u001b[0m             \u001b[0;32mif\u001b[0m \u001b[0ms\u001b[0m\u001b[0;34m.\u001b[0m\u001b[0mstartswith\u001b[0m\u001b[0;34m(\u001b[0m\u001b[0;34m'org.apache.spark.sql.catalyst.analysis'\u001b[0m\u001b[0;34m)\u001b[0m\u001b[0;34m:\u001b[0m\u001b[0;34m\u001b[0m\u001b[0m\n\u001b[1;32m     71\u001b[0m                 \u001b[0;32mraise\u001b[0m \u001b[0mAnalysisException\u001b[0m\u001b[0;34m(\u001b[0m\u001b[0ms\u001b[0m\u001b[0;34m.\u001b[0m\u001b[0msplit\u001b[0m\u001b[0;34m(\u001b[0m\u001b[0;34m': '\u001b[0m\u001b[0;34m,\u001b[0m \u001b[0;36m1\u001b[0m\u001b[0;34m)\u001b[0m\u001b[0;34m[\u001b[0m\u001b[0;36m1\u001b[0m\u001b[0;34m]\u001b[0m\u001b[0;34m,\u001b[0m \u001b[0mstackTrace\u001b[0m\u001b[0;34m)\u001b[0m\u001b[0;34m\u001b[0m\u001b[0m\n",
      "\u001b[0;31mAnalysisException\u001b[0m: u\"cannot resolve '`Invoice/Item Number`' given input columns: [id];;\\n'Project [unresolvedalias(cast('Invoice/Item Number as date), None)]\\n+- Range (1, 4, step=1, splits=Some(4))\\n\""
     ]
    }
   ],
   "source": [
    "from pyspark.sql.functions import col\n",
    "\n",
    "spark.range(1, 4).select(col(\"Invoice/Item Number\").cast(\"Date\"))\n",
    "\n",
    "#df.describe().show()"
   ]
  },
  {
   "cell_type": "code",
   "execution_count": null,
   "metadata": {
    "collapsed": true
   },
   "outputs": [],
   "source": []
  }
 ],
 "metadata": {
  "kernelspec": {
   "display_name": "Python 2",
   "language": "python",
   "name": "python2"
  },
  "language_info": {
   "codemirror_mode": {
    "name": "ipython",
    "version": 2
   },
   "file_extension": ".py",
   "mimetype": "text/x-python",
   "name": "python",
   "nbconvert_exporter": "python",
   "pygments_lexer": "ipython2",
   "version": "2.7.13"
  }
 },
 "nbformat": 4,
 "nbformat_minor": 2
}
